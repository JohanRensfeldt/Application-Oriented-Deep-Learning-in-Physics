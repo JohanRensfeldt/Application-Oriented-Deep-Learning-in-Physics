{
  "nbformat": 4,
  "nbformat_minor": 0,
  "metadata": {
    "colab": {
      "provenance": [],
      "collapsed_sections": [],
      "include_colab_link": true
    },
    "kernelspec": {
      "name": "python3",
      "display_name": "Python 3"
    },
    "language_info": {
      "name": "python"
    },
    "accelerator": "GPU",
    "gpuClass": "standard"
  },
  "cells": [
    {
      "cell_type": "markdown",
      "metadata": {
        "id": "view-in-github",
        "colab_type": "text"
      },
      "source": [
        "<a href=\"https://colab.research.google.com/github/JohanRensfeldt/Application-Oriented-Deep-Learning-in-Physics/blob/main/Kopia_av_Copy_of_cnn_its_lab_tasks.ipynb\" target=\"_parent\"><img src=\"https://colab.research.google.com/assets/colab-badge.svg\" alt=\"Open In Colab\"/></a>"
      ]
    },
    {
      "cell_type": "markdown",
      "metadata": {
        "id": "XblK19KM9VKF"
      },
      "source": [
        "## DNA motif discovery using CNN\n",
        "\n",
        "In this lab, we will use convolutional neural networks (CNN) to detect certain motifs (DNA fragments following specific pattern) in plant DNA sequences downloaded from GenBank.\n",
        "\n",
        "### Data\n",
        "The first step is to go to [GenBank](https://https.ncbi.nlm.nih.gov/genbank/) database [FTP service](https://ftp.ncbi.nih.gov/genbank/) and download some data. Whenever researchers sequence DNA coming from an organism and publish their finding, the DNA sequences are deposited in GeneBank. In their FTP service, one can see a number of `gb***N.seq.gz` files where `***` is an abbreviation for a group of organisms DNA sequences come from, e.g. `bct` for bacteria or `pln` for plants and `N` is a sequence number assigned in a consecutive manner to deposited files. We have downloaded one of such files `gbpln132.seq.gz` and converted it to an easier-to-read format called [FASTA](https://en.wikipedia.org/wiki/FASTA). If you are curious and would like to prepare your own dataset, we used the following `BioPython` file IO routines to convert from GenBank format to FASTA:\n",
        "```\n",
        "from Bio import SeqIO\n",
        "SeqIO.convert(\"gbpln132.seq\", \"genbank\", \"gbpln132.fasta\", \"fasta\")\n",
        "```\n",
        "\n",
        "### DNA metabarcoding and amplicon sequencing\n",
        "\n",
        "Now, let me introduce you to a real research problem. Say, we go to a grocery store and buy a mix of spices. There are some spices listed on a label, but how can we make sure that there actually is basil or onion in the mix? One of the ways to figure this out is to extract DNA from these dried powdered spices and use it to single out species composition. This part can be somewhat tricky itself as it is not trivial to extract DNA from such mix that possibly also contains some chemicals that may damage the DNA or make extraction very inefficient. Say, however, we have solved this issue, now we can go two ways: \n",
        "* sequence all DNA fragments and hope they will say something about the species composition. The risk is, however, that we won't have enough material that is specific to a given species and thus, we end up below the detection level.\n",
        "* try to PCR-amplify (make many copies) of some 'magic' sequence fragments that, we know, are very specific/characteristic to different species. This is called **amplicon sequencing**. \n",
        "\n",
        "In this lab, we will go for the second approach. How does it work? Well, first, we need to have some barcodes (special DNA sequence fragments) that are suitable for species identification.\n",
        "\n",
        "### Properties a DNA barcode\n",
        "\n",
        "Back to our jar of spices -- we know that, at least in theory, the plants that are on the label should be there, but what else can this jar contain? It can be anything! In fact, any imaginable plant species in the world! So, what we need is a DNA fragment that we know all plants have, so that we can amplify this sequence fragment and we do not risk missing out something. At the same time this should be a **barcode**, i.e. a sequence that is different between all plant species so that we can uniquely identify its source. Sounds like a contradiction? What about a sequence that looks something like this:  \n",
        "\n",
        "```\n",
        "cccccccccccccccccUUUUUUUUUUUUUUUUUUCCCCCCCCCCCCCC\n",
        "```\n",
        "where `cccccccccc` and `CCCCCCCCCCC` are common for all plants and `UUUUUUUUU` fragment inside is unique for every plant species. What we can do now is to design molecular probes that will fish out `UUUUUUUU` based on it being flanked by `cccc` and `CCCCCC`. \n",
        "\n",
        "### ITS1 and ITS2\n",
        "\n",
        "Quite fortunately for us, such barcodes exist and the two most commonly used types of sequences used for plan identification are called ITS1 and ITS2. They look exactly as we want them to look. Well, with a caveat that sometimes the `UUUUUU` part is similar between some plants but the ITS-es are good enough for many applications. You can read more about ITS-es [here](https://en.wikipedia.org/wiki/Internal_transcribed_spacer).\n",
        "\n",
        "### Our task\n",
        "In this lab, we will see whether we can train CNN to be able to detect short sequence fragments (k-mers) coming from ITS and non-ITS sequences. If we succeed, we will have made the first step towards species identification."
      ]
    },
    {
      "cell_type": "code",
      "metadata": {
        "id": "cBBoquco9UFZ",
        "colab": {
          "base_uri": "https://localhost:8080/"
        },
        "outputId": "1ba9aef0-8fe4-42c1-d46e-a238efc03977"
      },
      "source": [
        "!pip install biopython\n",
        "import os\n",
        "from Bio import SeqIO\n",
        "import numpy as np\n",
        "import pandas as pd\n",
        "\n",
        "# Download example GenBank data\n",
        "!wget https://www.dropbox.com/s/zjze886uove04s1/gbpln132.fasta\n",
        "\n",
        "# Read fasta file with sequences\n",
        "input_file = open('gbpln132.fasta', 'r')\n",
        "\n",
        "k_mer_size = 150 # we set our k-mer size here\n",
        "frac_to_take = 0.01 # fraction of sequences to work with due to memeory limits of Colab\n",
        "\n",
        "seq_lengths = []\n",
        "its_seq = []\n",
        "non_its_seq = []\n",
        "\n",
        "# Below we filter out sequences shorter than k-mer size and the ones \n",
        "# that contain Ns (we can change it later). We also populate its1, its2 and non-its\n",
        "# arrays. \n",
        "for sequence in SeqIO.parse(input_file, \"fasta\") :\n",
        "  seq_lengths.append(len(sequence.seq))\n",
        "  if len(sequence.seq) >= k_mer_size and 'NN' not in sequence.seq:\n",
        "    if 'ITS1' in sequence.description:\n",
        "      its_seq.append(sequence.seq)\n",
        "    elif 'ITS2' in sequence.description:\n",
        "      its_seq.append(sequence.seq)\n",
        "  if 'ITS' not in sequence.description and sequence.seq.count('N') <= 1:\n",
        "      non_its_seq.append(sequence.seq)\n",
        "  ##############################################################################\n",
        "  # TASK 1: complete the code so that all sequences that:\n",
        "  # - contain 'ITS' in sequence description and does not contain 2 or  \n",
        "  # more consecutive N (missing data) are added to its_seq\n",
        "  # - does not contain 'ITS' in the description and have a stretch of max 1 N \n",
        "  # are added to non_its\n",
        "  # ... \n",
        "  ##############################################################################\n",
        "\n",
        "input_file.close()"
      ],
      "execution_count": null,
      "outputs": [
        {
          "output_type": "stream",
          "name": "stdout",
          "text": [
            "Looking in indexes: https://pypi.org/simple, https://us-python.pkg.dev/colab-wheels/public/simple/\n",
            "Requirement already satisfied: biopython in /usr/local/lib/python3.7/dist-packages (1.79)\n",
            "Requirement already satisfied: numpy in /usr/local/lib/python3.7/dist-packages (from biopython) (1.21.6)\n",
            "--2022-10-21 10:38:46--  https://www.dropbox.com/s/zjze886uove04s1/gbpln132.fasta\n",
            "Resolving www.dropbox.com (www.dropbox.com)... 162.125.81.18, 2620:100:6031:18::a27d:5112\n",
            "Connecting to www.dropbox.com (www.dropbox.com)|162.125.81.18|:443... connected.\n",
            "HTTP request sent, awaiting response... 302 Found\n",
            "Location: /s/raw/zjze886uove04s1/gbpln132.fasta [following]\n",
            "--2022-10-21 10:38:46--  https://www.dropbox.com/s/raw/zjze886uove04s1/gbpln132.fasta\n",
            "Reusing existing connection to www.dropbox.com:443.\n",
            "HTTP request sent, awaiting response... 302 Found\n",
            "Location: https://uc45d73792015e119d3308991430.dl.dropboxusercontent.com/cd/0/inline/BvOEcL9hcxdHJR-_ZseJL_x7ZGMJ2-vdAl-oijy587G-ia1JCKcz2lMrR4V5139HXbwc25qOaZXMXfa9h2EFkK5g10HqnWNjAWZkVX_h8o5KbgOxVCdAxf27OVpyA_6jrqgCT4vxC9mqCMiexI8yb7ATFWD_UYA-AT7YQAH3SQm95Q/file# [following]\n",
            "--2022-10-21 10:38:47--  https://uc45d73792015e119d3308991430.dl.dropboxusercontent.com/cd/0/inline/BvOEcL9hcxdHJR-_ZseJL_x7ZGMJ2-vdAl-oijy587G-ia1JCKcz2lMrR4V5139HXbwc25qOaZXMXfa9h2EFkK5g10HqnWNjAWZkVX_h8o5KbgOxVCdAxf27OVpyA_6jrqgCT4vxC9mqCMiexI8yb7ATFWD_UYA-AT7YQAH3SQm95Q/file\n",
            "Resolving uc45d73792015e119d3308991430.dl.dropboxusercontent.com (uc45d73792015e119d3308991430.dl.dropboxusercontent.com)... 162.125.7.15, 2620:100:6031:15::a27d:510f\n",
            "Connecting to uc45d73792015e119d3308991430.dl.dropboxusercontent.com (uc45d73792015e119d3308991430.dl.dropboxusercontent.com)|162.125.7.15|:443... connected.\n",
            "HTTP request sent, awaiting response... 200 OK\n",
            "Length: 115134086 (110M) [text/plain]\n",
            "Saving to: ‘gbpln132.fasta.5’\n",
            "\n",
            "gbpln132.fasta.5    100%[===================>] 109.80M  16.5MB/s    in 7.9s    \n",
            "\n",
            "2022-10-21 10:38:57 (14.0 MB/s) - ‘gbpln132.fasta.5’ saved [115134086/115134086]\n",
            "\n"
          ]
        }
      ]
    },
    {
      "cell_type": "code",
      "metadata": {
        "id": "ZogP67p1j0zU",
        "colab": {
          "base_uri": "https://localhost:8080/"
        },
        "outputId": "28cb840c-64d3-4979-9e1d-04c3924cd4d1"
      },
      "source": [
        "# we quickly check how many sequences do we have in every class\n",
        "print(len(its_seq), len(non_its_seq))"
      ],
      "execution_count": null,
      "outputs": [
        {
          "output_type": "stream",
          "name": "stdout",
          "text": [
            "5322 18824\n"
          ]
        }
      ]
    },
    {
      "cell_type": "code",
      "metadata": {
        "id": "-jNtDN7348XF",
        "colab": {
          "base_uri": "https://localhost:8080/"
        },
        "outputId": "86a14db6-5f21-47bf-8e16-e4b7701ac659"
      },
      "source": [
        "\n",
        "# Randomly select N non-its sequences to match the number of its1+its2 sequences\n",
        "import random\n",
        "its_len = len(its_seq)\n",
        "non_its_seq = random.sample(non_its_seq, its_len)\n",
        "print(\"ITS:\", len(its_seq))\n",
        "print(\"non-ITS:\", len(non_its_seq))"
      ],
      "execution_count": null,
      "outputs": [
        {
          "output_type": "stream",
          "name": "stdout",
          "text": [
            "ITS: 5322\n",
            "non-ITS: 5322\n"
          ]
        }
      ]
    },
    {
      "cell_type": "code",
      "metadata": {
        "id": "QAojcJ_WKomF",
        "colab": {
          "base_uri": "https://localhost:8080/",
          "height": 859
        },
        "outputId": "bd9d883e-2b52-469f-c747-0a641c87086c"
      },
      "source": [
        "# Here, we will plot sequence length distribution\n",
        "import seaborn as sns\n",
        "import matplotlib.pyplot as plt\n",
        "\n",
        "plt.figure(figsize=(20,15))\n",
        "sns.histplot(data = np.log10(seq_lengths), bins = 250)\n",
        "plt.show()"
      ],
      "execution_count": null,
      "outputs": [
        {
          "output_type": "display_data",
          "data": {
            "text/plain": [
              "<Figure size 1440x1080 with 1 Axes>"
            ],
            "image/png": "[encoded data removed]"
          },
          "metadata": {
            "needs_background": "light"
          }
        }
      ]
    },
    {
      "cell_type": "code",
      "metadata": {
        "id": "ye9_t9D4tsNA"
      },
      "source": [
        "def getKmers(sequence, size):\n",
        "  return [sequence[x:x+size] for x in range(len(sequence) - size + 1)]\n",
        "\n",
        "\n",
        "    ############################################################################\n",
        "    # TASK 2: write the body of the function that extracts all k-mers of a \n",
        "    # given length (size) from a sequence. E.g. for a sequence SEQUENCE and \n",
        "    # size 3: {SEQ, EQU, QUE, UEN, ENC, NCE}.\n",
        "    ############################################################################\n",
        "\n",
        "# Given a sequence, get all possible k-mers of length l along it.\n",
        "its = []\n",
        "non_its = []\n",
        "for i in its_seq:\n",
        "  its.extend(getKmers(i, k_mer_size))\n",
        "  \n",
        "for i in non_its_seq:\n",
        "  non_its.extend(getKmers(i, k_mer_size))"
      ],
      "execution_count": null,
      "outputs": []
    },
    {
      "cell_type": "code",
      "metadata": {
        "id": "IuMXG09m2B2k",
        "colab": {
          "base_uri": "https://localhost:8080/"
        },
        "outputId": "f55976a7-5dad-4f88-ce7b-cfcc7b5f40db"
      },
      "source": [
        "print(\"Length of ITS:\", len(its))\n",
        "print(\"Length of non-ITS:\", len(non_its))"
      ],
      "execution_count": null,
      "outputs": [
        {
          "output_type": "stream",
          "name": "stdout",
          "text": [
            "Length of ITS: 2958627\n",
            "Length of non-ITS: 8485695\n"
          ]
        }
      ]
    },
    {
      "cell_type": "code",
      "metadata": {
        "id": "r7DBGRqSByqH",
        "colab": {
          "base_uri": "https://localhost:8080/"
        },
        "outputId": "ed8db689-233e-4e1f-c223-6c28a7d116f6"
      },
      "source": [
        "# Randomly pick up a subset of sequences \n",
        "import math\n",
        "its = random.sample(its, math.floor(len(its) * frac_to_take))\n",
        "non_its = random.sample(non_its, math.floor(len(non_its) * frac_to_take))\n",
        "print(\"Length of ITS:\", len(its))\n",
        "print(\"Length of non-ITS:\", len(non_its))\n",
        "print(\"First 2 k-mers in a class:\")\n",
        "print(\"ITS: \", its[0:2])\n",
        "print(\"non-ITS: \", non_its[0:2])"
      ],
      "execution_count": null,
      "outputs": [
        {
          "output_type": "stream",
          "name": "stdout",
          "text": [
            "Length of ITS: 29586\n",
            "Length of non-ITS: 84856\n",
            "First 2 k-mers in a class:\n",
            "ITS:  [Seq('TATTGAGTGATACTCTGTTAAACTGGGTTAACTTGAAATAGTGTGGCAAGAGCT...ACA'), Seq('TCTCGGCAACGGATATCTAGGCTCTCGCATCGATGAAAAACGTAGCGAAATGCG...GTG')]\n",
            "non-ITS:  [Seq('CAGGCATACGCGAATCTTCGATTCGCTAGCTTAGCGAGTTTTCTTAATTTCTGT...TGT'), Seq('TCATCCTCACAATGGCTCTAAAATTGGAAGTCTTGACCCTAAAAGTTTAAAGGA...GTG')]\n"
          ]
        }
      ]
    },
    {
      "cell_type": "code",
      "metadata": {
        "id": "UiLWsCM7RFYF"
      },
      "source": [
        "# Encode bases in our k-mers so that each of the 4 channels corresponds to \n",
        "# the probability of each of the four bases.\n",
        "\n",
        "def encodeSeq(seq):\n",
        "  dict = {'A':[1,0,0,0],\n",
        "            'T':[0,1,0,0],\n",
        "            'C':[0,0,1,0],\n",
        "            'G':[0,0,0,1],\n",
        "            'R':[.5,0,0,.5],\t         # A or G\n",
        "            'Y':[0,.5,.5,0],\t         # C or T\n",
        "            'S':[0,0,.5,.5],        \t # G or C\n",
        "            'W':[.5,.5,0,0],           # A or T\n",
        "            'K':[0,.5,0,.5],       \t   # G or T\n",
        "            'M':[.5,0,.5,0],\t         # A or C\n",
        "            'B':[0,.33,.33,.33],\t     # C or G or T\n",
        "            'D':[.33,.33,0,.33],\t     # A or G or T\n",
        "            'H':[.33,.33,.33,0],\t     # A or C or T\n",
        "            'V':[.33,0,.33,.33],\t     # A or C or G\n",
        "            'N':[.25,.25,.25,.25]      # A or T or C or G\n",
        "          }\n",
        "  seq = list(seq.upper())\n",
        "  encoded = [dict[base] for base in seq]\n",
        "  return encoded\n",
        "\n",
        "################################################################################\n",
        "# TASK 3: create lists of encoded both its and the non-its sequences  \n",
        "# using the provided encodeSeq function. \n",
        "################################################################################\n",
        "\n",
        "encoded_its = []\n",
        "encoded_non_its = []\n",
        "\n",
        "for i in its:\n",
        "  encoded_its.append(encodeSeq(i))\n",
        "for i in non_its:\n",
        "  encoded_non_its.append(encodeSeq(i))\n"
      ],
      "execution_count": null,
      "outputs": []
    },
    {
      "cell_type": "code",
      "metadata": {
        "id": "tYFQsE88SdEj",
        "colab": {
          "base_uri": "https://localhost:8080/"
        },
        "outputId": "1e472401-7034-475f-e81e-199e450c196e"
      },
      "source": [
        "print(\"First 2 encoded k-mers in a class:\")\n",
        "print(\"Lenghts of encoded ITS: \", len(encoded_its),  \", non-its: \", len(encoded_non_its))\n",
        "print(encoded_its[0:2])\n",
        "#print(encoded_its2[0:2])\n",
        "print(encoded_non_its[0:2])"
      ],
      "execution_count": null,
      "outputs": [
        {
          "output_type": "stream",
          "name": "stdout",
          "text": [
            "First 2 encoded k-mers in a class:\n",
            "Lenghts of encoded ITS:  29586 , non-its:  84856\n",
            "[[[0, 1, 0, 0], [1, 0, 0, 0], [0, 1, 0, 0], [0, 1, 0, 0], [0, 0, 0, 1], [1, 0, 0, 0], [0, 0, 0, 1], [0, 1, 0, 0], [0, 0, 0, 1], [1, 0, 0, 0], [0, 1, 0, 0], [1, 0, 0, 0], [0, 0, 1, 0], [0, 1, 0, 0], [0, 0, 1, 0], [0, 1, 0, 0], [0, 0, 0, 1], [0, 1, 0, 0], [0, 1, 0, 0], [1, 0, 0, 0], [1, 0, 0, 0], [1, 0, 0, 0], [0, 0, 1, 0], [0, 1, 0, 0], [0, 0, 0, 1], [0, 0, 0, 1], [0, 0, 0, 1], [0, 1, 0, 0], [0, 1, 0, 0], [1, 0, 0, 0], [1, 0, 0, 0], [0, 0, 1, 0], [0, 1, 0, 0], [0, 1, 0, 0], [0, 0, 0, 1], [1, 0, 0, 0], [1, 0, 0, 0], [1, 0, 0, 0], [0, 1, 0, 0], [1, 0, 0, 0], [0, 0, 0, 1], [0, 1, 0, 0], [0, 0, 0, 1], [0, 1, 0, 0], [0, 0, 0, 1], [0, 0, 0, 1], [0, 0, 1, 0], [1, 0, 0, 0], [1, 0, 0, 0], [0, 0, 0, 1], [1, 0, 0, 0], [0, 0, 0, 1], [0, 0, 1, 0], [0, 1, 0, 0], [0, 0, 0, 1], [0, 0, 1, 0], [0, 1, 0, 0], [0, 1, 0, 0], [0, 1, 0, 0], [0, 0, 0, 1], [0, 0, 1, 0], [0, 0, 0, 1], [0, 0, 1, 0], [1, 0, 0, 0], [0, 0, 0, 1], [0, 0, 0, 1], [0, 1, 0, 0], [0, 0, 1, 0], [0, 1, 0, 0], [0, 1, 0, 0], [0, 0, 1, 0], [0, 1, 0, 0], [0, 0, 1, 0], [0, 1, 0, 0], [0, 0, 0, 1], [1, 0, 0, 0], [1, 0, 0, 0], [0, 0, 1, 0], [0, 1, 0, 0], [1, 0, 0, 0], [1, 0, 0, 0], [0, 0, 1, 0], [0, 0, 0, 1], [0, 1, 0, 0], [0, 1, 0, 0], [0, 1, 0, 0], [0, 0, 1, 0], [0, 1, 0, 0], [1, 0, 0, 0], [0, 0, 0, 1], [0, 0, 0, 1], [0, 1, 0, 0], [0, 1, 0, 0], [0, 0, 1, 0], [0, 1, 0, 0], [1, 0, 0, 0], [0, 0, 1, 0], [0, 0, 1, 0], [1, 0, 0, 0], [1, 0, 0, 0], [0, 1, 0, 0], [0, 1, 0, 0], [0, 0, 1, 0], [0, 0, 0, 1], [0, 1, 0, 0], [0, 1, 0, 0], [1, 0, 0, 0], [0, 1, 0, 0], [0, 0, 0, 1], [0, 0, 0, 1], [0, 0, 0, 1], [0, 0, 1, 0], [1, 0, 0, 0], [0, 0, 0, 1], [0, 1, 0, 0], [0, 0, 0, 1], [0, 0, 0, 1], [1, 0, 0, 0], [0, 0, 0, 1], [0, 0, 0, 1], [0, 0, 0, 1], [0, 0, 1, 0], [0, 0, 0, 1], [0, 0, 1, 0], [0, 0, 0, 1], [0, 1, 0, 0], [0, 0, 1, 0], [0, 1, 0, 0], [0, 0, 0, 1], [0, 0, 0, 1], [0, 0, 1, 0], [0, 0, 0, 1], [0, 1, 0, 0], [0, 1, 0, 0], [0, 1, 0, 0], [0, 0, 0, 1], [0, 0, 0, 1], [0, 0, 0, 1], [0, 0, 1, 0], [0, 1, 0, 0], [0, 0, 1, 0], [0, 0, 0, 1], [0, 0, 0, 1], [0, 0, 1, 0], [0, 0, 1, 0], [0, 1, 0, 0], [1, 0, 0, 0], [1, 0, 0, 0], [0, 0, 1, 0], [1, 0, 0, 0]], [[0, 1, 0, 0], [0, 0, 1, 0], [0, 1, 0, 0], [0, 0, 1, 0], [0, 0, 0, 1], [0, 0, 0, 1], [0, 0, 1, 0], [1, 0, 0, 0], [1, 0, 0, 0], [0, 0, 1, 0], [0, 0, 0, 1], [0, 0, 0, 1], [1, 0, 0, 0], [0, 1, 0, 0], [1, 0, 0, 0], [0, 1, 0, 0], [0, 0, 1, 0], [0, 1, 0, 0], [1, 0, 0, 0], [0, 0, 0, 1], [0, 0, 0, 1], [0, 0, 1, 0], [0, 1, 0, 0], [0, 0, 1, 0], [0, 1, 0, 0], [0, 0, 1, 0], [0, 0, 0, 1], [0, 0, 1, 0], [1, 0, 0, 0], [0, 1, 0, 0], [0, 0, 1, 0], [0, 0, 0, 1], [1, 0, 0, 0], [0, 1, 0, 0], [0, 0, 0, 1], [1, 0, 0, 0], [1, 0, 0, 0], [1, 0, 0, 0], [1, 0, 0, 0], [1, 0, 0, 0], [0, 0, 1, 0], [0, 0, 0, 1], [0, 1, 0, 0], [1, 0, 0, 0], [0, 0, 0, 1], [0, 0, 1, 0], [0, 0, 0, 1], [1, 0, 0, 0], [1, 0, 0, 0], [1, 0, 0, 0], [0, 1, 0, 0], [0, 0, 0, 1], [0, 0, 1, 0], [0, 0, 0, 1], [1, 0, 0, 0], [0, 1, 0, 0], [1, 0, 0, 0], [0, 0, 1, 0], [0, 1, 0, 0], [0, 1, 0, 0], [0, 0, 0, 1], [0, 0, 0, 1], [0, 1, 0, 0], [0, 0, 0, 1], [0, 1, 0, 0], [0, 0, 0, 1], [1, 0, 0, 0], [1, 0, 0, 0], [0, 1, 0, 0], [0, 1, 0, 0], [0, 0, 0, 1], [0, 0, 1, 0], [1, 0, 0, 0], [0, 0, 0, 1], [1, 0, 0, 0], [1, 0, 0, 0], [0, 1, 0, 0], [0, 0, 1, 0], [0, 0, 1, 0], [0, 0, 1, 0], [0, 0, 0, 1], [0, 1, 0, 0], [0, 0, 0, 1], [1, 0, 0, 0], [1, 0, 0, 0], [0, 0, 1, 0], [0, 0, 1, 0], [1, 0, 0, 0], [0, 1, 0, 0], [0, 0, 1, 0], [0, 0, 0, 1], [1, 0, 0, 0], [0, 0, 0, 1], [0, 1, 0, 0], [0, 0, 1, 0], [0, 1, 0, 0], [0, 1, 0, 0], [0, 1, 0, 0], [0, 0, 0, 1], [1, 0, 0, 0], [1, 0, 0, 0], [0, 0, 1, 0], [0, 0, 0, 1], [0, 0, 1, 0], [1, 0, 0, 0], [1, 0, 0, 0], [0, 0, 0, 1], [0, 1, 0, 0], [0, 1, 0, 0], [0, 0, 0, 1], [0, 0, 1, 0], [0, 0, 0, 1], [0, 0, 1, 0], [0, 0, 1, 0], [0, 0, 1, 0], [0, 0, 0, 1], [1, 0, 0, 0], [0, 0, 0, 1], [0, 0, 0, 1], [0, 0, 1, 0], [0, 0, 1, 0], [1, 0, 0, 0], [0, 1, 0, 0], [0, 0, 1, 0], [0, 0, 1, 0], [0, 0, 0, 1], [0, 0, 0, 1], [0, 1, 0, 0], [0, 0, 1, 0], [0, 0, 0, 1], [1, 0, 0, 0], [0, 0, 0, 1], [0, 0, 0, 1], [0, 0, 0, 1], [0, 0, 1, 0], [1, 0, 0, 0], [0, 0, 1, 0], [0, 0, 0, 1], [0, 0, 1, 0], [0, 0, 1, 0], [0, 1, 0, 0], [0, 0, 0, 1], [0, 0, 1, 0], [0, 0, 1, 0], [0, 1, 0, 0], [0, 0, 0, 1], [0, 0, 0, 1], [0, 0, 0, 1], [0, 1, 0, 0], [0, 0, 0, 1]]]\n",
            "[[[0, 0, 1, 0], [1, 0, 0, 0], [0, 0, 0, 1], [0, 0, 0, 1], [0, 0, 1, 0], [1, 0, 0, 0], [0, 1, 0, 0], [1, 0, 0, 0], [0, 0, 1, 0], [0, 0, 0, 1], [0, 0, 1, 0], [0, 0, 0, 1], [1, 0, 0, 0], [1, 0, 0, 0], [0, 1, 0, 0], [0, 0, 1, 0], [0, 1, 0, 0], [0, 1, 0, 0], [0, 0, 1, 0], [0, 0, 0, 1], [1, 0, 0, 0], [0, 1, 0, 0], [0, 1, 0, 0], [0, 0, 1, 0], [0, 0, 0, 1], [0, 0, 1, 0], [0, 1, 0, 0], [1, 0, 0, 0], [0, 0, 0, 1], [0, 0, 1, 0], [0, 1, 0, 0], [0, 1, 0, 0], [1, 0, 0, 0], [0, 0, 0, 1], [0, 0, 1, 0], [0, 0, 0, 1], [1, 0, 0, 0], [0, 0, 0, 1], [0, 1, 0, 0], [0, 1, 0, 0], [0, 1, 0, 0], [0, 1, 0, 0], [0, 0, 1, 0], [0, 1, 0, 0], [0, 1, 0, 0], [1, 0, 0, 0], [1, 0, 0, 0], [0, 1, 0, 0], [0, 1, 0, 0], [0, 1, 0, 0], [0, 0, 1, 0], [0, 1, 0, 0], [0, 0, 0, 1], [0, 1, 0, 0], [1, 0, 0, 0], [0, 0, 0, 1], [0, 1, 0, 0], [0, 1, 0, 0], [0, 1, 0, 0], [1, 0, 0, 0], [1, 0, 0, 0], [0, 1, 0, 0], [0, 0, 0, 1], [0, 0, 1, 0], [0, 1, 0, 0], [1, 0, 0, 0], [0, 1, 0, 0], [1, 0, 0, 0], [0, 0, 0, 1], [0, 0, 1, 0], [0, 0, 1, 0], [0, 0, 1, 0], [0, 0, 0, 1], [0, 0, 1, 0], [0, 0, 0, 1], [0, 0, 0, 1], [0, 0, 1, 0], [0, 1, 0, 0], [1, 0, 0, 0], [0, 1, 0, 0], [1, 0, 0, 0], [0, 0, 0, 1], [0, 0, 1, 0], [1, 0, 0, 0], [0, 0, 1, 0], [0, 1, 0, 0], [1, 0, 0, 0], [1, 0, 0, 0], [1, 0, 0, 0], [0, 0, 1, 0], [0, 1, 0, 0], [0, 1, 0, 0], [0, 0, 0, 1], [0, 0, 0, 1], [0, 0, 0, 1], [1, 0, 0, 0], [0, 0, 0, 1], [0, 0, 1, 0], [0, 1, 0, 0], [0, 0, 0, 1], [0, 1, 0, 0], [1, 0, 0, 0], [0, 0, 0, 1], [0, 1, 0, 0], [1, 0, 0, 0], [0, 0, 1, 0], [0, 0, 1, 0], [1, 0, 0, 0], [1, 0, 0, 0], [0, 0, 1, 0], [0, 0, 0, 1], [0, 1, 0, 0], [1, 0, 0, 0], [0, 0, 0, 1], [0, 1, 0, 0], [0, 1, 0, 0], [0, 0, 0, 1], [1, 0, 0, 0], [0, 1, 0, 0], [1, 0, 0, 0], [0, 0, 1, 0], [0, 1, 0, 0], [1, 0, 0, 0], [0, 0, 1, 0], [1, 0, 0, 0], [0, 0, 0, 1], [0, 0, 1, 0], [0, 1, 0, 0], [0, 1, 0, 0], [0, 0, 1, 0], [0, 0, 1, 0], [0, 1, 0, 0], [1, 0, 0, 0], [0, 0, 1, 0], [1, 0, 0, 0], [1, 0, 0, 0], [0, 0, 1, 0], [0, 0, 1, 0], [0, 0, 0, 1], [1, 0, 0, 0], [0, 1, 0, 0], [1, 0, 0, 0], [0, 0, 1, 0], [0, 1, 0, 0], [0, 1, 0, 0], [0, 1, 0, 0], [0, 1, 0, 0], [0, 1, 0, 0], [0, 0, 0, 1], [0, 1, 0, 0]], [[0, 1, 0, 0], [0, 0, 1, 0], [1, 0, 0, 0], [0, 1, 0, 0], [0, 0, 1, 0], [0, 0, 1, 0], [0, 1, 0, 0], [0, 0, 1, 0], [1, 0, 0, 0], [0, 0, 1, 0], [1, 0, 0, 0], [1, 0, 0, 0], [0, 1, 0, 0], [0, 0, 0, 1], [0, 0, 0, 1], [0, 0, 1, 0], [0, 1, 0, 0], [0, 0, 1, 0], [0, 1, 0, 0], [1, 0, 0, 0], [1, 0, 0, 0], [1, 0, 0, 0], [1, 0, 0, 0], [0, 1, 0, 0], [0, 1, 0, 0], [0, 0, 0, 1], [0, 0, 0, 1], [1, 0, 0, 0], [1, 0, 0, 0], [0, 0, 0, 1], [0, 1, 0, 0], [0, 0, 1, 0], [0, 1, 0, 0], [0, 1, 0, 0], [0, 0, 0, 1], [1, 0, 0, 0], [0, 0, 1, 0], [0, 0, 1, 0], [0, 0, 1, 0], [0, 1, 0, 0], [1, 0, 0, 0], [1, 0, 0, 0], [1, 0, 0, 0], [1, 0, 0, 0], [0, 0, 0, 1], [0, 1, 0, 0], [0, 1, 0, 0], [0, 1, 0, 0], [1, 0, 0, 0], [1, 0, 0, 0], [1, 0, 0, 0], [0, 0, 0, 1], [0, 0, 0, 1], [1, 0, 0, 0], [0, 0, 1, 0], [1, 0, 0, 0], [0, 1, 0, 0], [1, 0, 0, 0], [0, 0, 1, 0], [0, 0, 0, 1], [0, 1, 0, 0], [1, 0, 0, 0], [0, 1, 0, 0], [0, 0, 0, 1], [0, 0, 1, 0], [0, 0, 0, 1], [0, 0, 0, 1], [0, 1, 0, 0], [0, 1, 0, 0], [0, 0, 1, 0], [0, 1, 0, 0], [0, 1, 0, 0], [1, 0, 0, 0], [1, 0, 0, 0], [1, 0, 0, 0], [0, 1, 0, 0], [0, 0, 0, 1], [0, 0, 0, 1], [0, 1, 0, 0], [1, 0, 0, 0], [0, 0, 0, 1], [0, 1, 0, 0], [0, 1, 0, 0], [1, 0, 0, 0], [0, 1, 0, 0], [0, 0, 0, 1], [1, 0, 0, 0], [0, 1, 0, 0], [0, 0, 1, 0], [1, 0, 0, 0], [0, 1, 0, 0], [0, 0, 0, 1], [0, 1, 0, 0], [1, 0, 0, 0], [0, 0, 1, 0], [0, 0, 1, 0], [0, 0, 1, 0], [0, 1, 0, 0], [0, 0, 1, 0], [0, 0, 1, 0], [1, 0, 0, 0], [1, 0, 0, 0], [0, 1, 0, 0], [1, 0, 0, 0], [0, 1, 0, 0], [1, 0, 0, 0], [0, 0, 1, 0], [0, 1, 0, 0], [1, 0, 0, 0], [0, 1, 0, 0], [0, 1, 0, 0], [0, 1, 0, 0], [0, 1, 0, 0], [1, 0, 0, 0], [0, 0, 1, 0], [0, 0, 1, 0], [0, 1, 0, 0], [0, 0, 0, 1], [0, 0, 1, 0], [0, 1, 0, 0], [1, 0, 0, 0], [0, 0, 0, 1], [1, 0, 0, 0], [0, 1, 0, 0], [0, 1, 0, 0], [1, 0, 0, 0], [0, 1, 0, 0], [0, 1, 0, 0], [0, 0, 0, 1], [1, 0, 0, 0], [0, 0, 1, 0], [1, 0, 0, 0], [0, 0, 1, 0], [0, 1, 0, 0], [0, 1, 0, 0], [0, 1, 0, 0], [0, 0, 0, 1], [1, 0, 0, 0], [1, 0, 0, 0], [1, 0, 0, 0], [1, 0, 0, 0], [0, 1, 0, 0], [0, 1, 0, 0], [0, 0, 0, 1], [0, 0, 0, 1], [0, 1, 0, 0], [0, 1, 0, 0], [0, 0, 0, 1], [0, 1, 0, 0], [0, 0, 0, 1]]]\n"
          ]
        }
      ]
    },
    {
      "cell_type": "code",
      "metadata": {
        "id": "3R7txzEgfJoB",
        "colab": {
          "base_uri": "https://localhost:8080/"
        },
        "outputId": "32aa71cf-0c62-4f5e-b1a6-ad909409ba8b"
      },
      "source": [
        "# Here, we will one-hot encode labels\n",
        "from sklearn.preprocessing import LabelEncoder, OneHotEncoder\n",
        "labels = list(np.ones(len(encoded_its))) + list(np.zeros(len(encoded_non_its)))\n",
        "\n",
        "# One-hot encode Sequences\n",
        "#integer_encoder = LabelEncoder()  \n",
        "one_hot_encoder = OneHotEncoder()  \n",
        "labels = np.array(labels).reshape(-1, 1)\n",
        "input_labels = one_hot_encoder.fit_transform(labels).toarray()\n",
        "print('Labels:\\n', labels.T) \n",
        "print('One-hot encoded labels:\\n', input_labels.T)"
      ],
      "execution_count": null,
      "outputs": [
        {
          "output_type": "stream",
          "name": "stdout",
          "text": [
            "Labels:\n",
            " [[1. 1. 1. ... 0. 0. 0.]]\n",
            "One-hot encoded labels:\n",
            " [[0. 0. 0. ... 1. 1. 1.]\n",
            " [1. 1. 1. ... 0. 0. 0.]]\n"
          ]
        }
      ]
    },
    {
      "cell_type": "code",
      "metadata": {
        "id": "t_UBx9oHhg2e"
      },
      "source": [
        "# Prepare the training set\n",
        "input_features = np.array(encoded_its + encoded_non_its)"
      ],
      "execution_count": null,
      "outputs": []
    },
    {
      "cell_type": "code",
      "metadata": {
        "id": "g_oZDpnvPAQY",
        "colab": {
          "base_uri": "https://localhost:8080/"
        },
        "outputId": "72734812-5f11-4aed-a263-ece0f8903294"
      },
      "source": [
        "from sklearn.model_selection import train_test_split\n",
        "train_features, test_features, train_labels, test_labels = train_test_split(input_features, input_labels, test_size = 0.25, random_state = 42)\n",
        "print(train_features[0])\n",
        "print(train_features.shape)"
      ],
      "execution_count": null,
      "outputs": [
        {
          "output_type": "stream",
          "name": "stdout",
          "text": [
            "[[1. 0. 0. 0.]\n",
            " [1. 0. 0. 0.]\n",
            " [1. 0. 0. 0.]\n",
            " [1. 0. 0. 0.]\n",
            " [1. 0. 0. 0.]\n",
            " [1. 0. 0. 0.]\n",
            " [0. 1. 0. 0.]\n",
            " [1. 0. 0. 0.]\n",
            " [1. 0. 0. 0.]\n",
            " [1. 0. 0. 0.]\n",
            " [1. 0. 0. 0.]\n",
            " [0. 1. 0. 0.]\n",
            " [1. 0. 0. 0.]\n",
            " [0. 0. 0. 1.]\n",
            " [1. 0. 0. 0.]\n",
            " [0. 0. 0. 1.]\n",
            " [1. 0. 0. 0.]\n",
            " [0. 1. 0. 0.]\n",
            " [0. 0. 0. 1.]\n",
            " [0. 1. 0. 0.]\n",
            " [0. 1. 0. 0.]\n",
            " [0. 1. 0. 0.]\n",
            " [0. 0. 0. 1.]\n",
            " [0. 1. 0. 0.]\n",
            " [0. 1. 0. 0.]\n",
            " [1. 0. 0. 0.]\n",
            " [0. 0. 0. 1.]\n",
            " [1. 0. 0. 0.]\n",
            " [0. 0. 0. 1.]\n",
            " [1. 0. 0. 0.]\n",
            " [0. 0. 0. 1.]\n",
            " [1. 0. 0. 0.]\n",
            " [0. 0. 0. 1.]\n",
            " [1. 0. 0. 0.]\n",
            " [0. 0. 0. 1.]\n",
            " [1. 0. 0. 0.]\n",
            " [0. 0. 0. 1.]\n",
            " [0. 1. 0. 0.]\n",
            " [0. 0. 0. 1.]\n",
            " [1. 0. 0. 0.]\n",
            " [0. 0. 0. 1.]\n",
            " [0. 0. 0. 1.]\n",
            " [0. 0. 0. 1.]\n",
            " [0. 1. 0. 0.]\n",
            " [0. 0. 0. 1.]\n",
            " [0. 1. 0. 0.]\n",
            " [0. 1. 0. 0.]\n",
            " [0. 0. 0. 1.]\n",
            " [1. 0. 0. 0.]\n",
            " [1. 0. 0. 0.]\n",
            " [0. 0. 1. 0.]\n",
            " [1. 0. 0. 0.]\n",
            " [0. 0. 0. 1.]\n",
            " [1. 0. 0. 0.]\n",
            " [1. 0. 0. 0.]\n",
            " [0. 0. 1. 0.]\n",
            " [0. 1. 0. 0.]\n",
            " [0. 0. 0. 1.]\n",
            " [0. 0. 0. 1.]\n",
            " [1. 0. 0. 0.]\n",
            " [1. 0. 0. 0.]\n",
            " [1. 0. 0. 0.]\n",
            " [0. 1. 0. 0.]\n",
            " [0. 1. 0. 0.]\n",
            " [0. 0. 0. 1.]\n",
            " [0. 0. 0. 1.]\n",
            " [0. 1. 0. 0.]\n",
            " [0. 1. 0. 0.]\n",
            " [0. 0. 0. 1.]\n",
            " [1. 0. 0. 0.]\n",
            " [0. 0. 1. 0.]\n",
            " [1. 0. 0. 0.]\n",
            " [0. 1. 0. 0.]\n",
            " [0. 1. 0. 0.]\n",
            " [0. 0. 0. 1.]\n",
            " [0. 1. 0. 0.]\n",
            " [0. 0. 0. 1.]\n",
            " [0. 0. 1. 0.]\n",
            " [0. 1. 0. 0.]\n",
            " [1. 0. 0. 0.]\n",
            " [0. 0. 1. 0.]\n",
            " [0. 0. 1. 0.]\n",
            " [1. 0. 0. 0.]\n",
            " [1. 0. 0. 0.]\n",
            " [1. 0. 0. 0.]\n",
            " [0. 1. 0. 0.]\n",
            " [0. 0. 0. 1.]\n",
            " [0. 0. 1. 0.]\n",
            " [0. 0. 0. 1.]\n",
            " [1. 0. 0. 0.]\n",
            " [0. 0. 1. 0.]\n",
            " [0. 1. 0. 0.]\n",
            " [0. 0. 1. 0.]\n",
            " [1. 0. 0. 0.]\n",
            " [1. 0. 0. 0.]\n",
            " [1. 0. 0. 0.]\n",
            " [1. 0. 0. 0.]\n",
            " [0. 0. 0. 1.]\n",
            " [0. 1. 0. 0.]\n",
            " [1. 0. 0. 0.]\n",
            " [1. 0. 0. 0.]\n",
            " [1. 0. 0. 0.]\n",
            " [1. 0. 0. 0.]\n",
            " [0. 0. 0. 1.]\n",
            " [0. 1. 0. 0.]\n",
            " [1. 0. 0. 0.]\n",
            " [0. 0. 1. 0.]\n",
            " [1. 0. 0. 0.]\n",
            " [0. 1. 0. 0.]\n",
            " [0. 0. 1. 0.]\n",
            " [1. 0. 0. 0.]\n",
            " [0. 0. 1. 0.]\n",
            " [0. 0. 1. 0.]\n",
            " [1. 0. 0. 0.]\n",
            " [0. 1. 0. 0.]\n",
            " [1. 0. 0. 0.]\n",
            " [0. 1. 0. 0.]\n",
            " [0. 0. 0. 1.]\n",
            " [0. 0. 0. 1.]\n",
            " [1. 0. 0. 0.]\n",
            " [0. 0. 1. 0.]\n",
            " [0. 0. 1. 0.]\n",
            " [1. 0. 0. 0.]\n",
            " [0. 0. 0. 1.]\n",
            " [0. 1. 0. 0.]\n",
            " [1. 0. 0. 0.]\n",
            " [0. 0. 1. 0.]\n",
            " [0. 0. 1. 0.]\n",
            " [1. 0. 0. 0.]\n",
            " [1. 0. 0. 0.]\n",
            " [1. 0. 0. 0.]\n",
            " [1. 0. 0. 0.]\n",
            " [0. 0. 0. 1.]\n",
            " [0. 0. 0. 1.]\n",
            " [0. 0. 0. 1.]\n",
            " [0. 1. 0. 0.]\n",
            " [1. 0. 0. 0.]\n",
            " [1. 0. 0. 0.]\n",
            " [0. 0. 1. 0.]\n",
            " [0. 1. 0. 0.]\n",
            " [1. 0. 0. 0.]\n",
            " [0. 0. 0. 1.]\n",
            " [1. 0. 0. 0.]\n",
            " [0. 1. 0. 0.]\n",
            " [1. 0. 0. 0.]\n",
            " [0. 0. 1. 0.]\n",
            " [1. 0. 0. 0.]\n",
            " [1. 0. 0. 0.]\n",
            " [0. 1. 0. 0.]\n",
            " [0. 0. 0. 1.]]\n",
            "(85831, 150, 4)\n"
          ]
        }
      ]
    },
    {
      "cell_type": "code",
      "metadata": {
        "id": "ozutvEDshwmn",
        "colab": {
          "base_uri": "https://localhost:8080/"
        },
        "outputId": "ed7810a8-e3e7-42aa-d7b4-49f56049329a"
      },
      "source": [
        "#from tkinter.ttk import _Padding\n",
        "import tensorflow as tf\n",
        "from tensorflow.keras.optimizers import Adam, Adadelta, SGD\n",
        "from keras.layers import Conv1D, Dense, MaxPooling1D, Flatten, BatchNormalization\n",
        "from keras.models import Sequential\n",
        "from keras.regularizers import l2, l1\n",
        "\n",
        "tf.compat.v1.disable_eager_execution()\n",
        "\n",
        "model = Sequential()\n",
        "\n",
        "model.add(Conv1D(128, 20, activation='relu', input_shape=(k_mer_size, 4)))\n",
        "model.add(BatchNormalization())\n",
        "model.add(Conv1D(128, 20, activation='relu', padding = 'same', kernel_regularizer='l2'),)\n",
        "model.add(BatchNormalization())\n",
        "model.add(Conv1D(128, 20, activation='relu', padding = 'same', kernel_regularizer='l2'),)\n",
        "model.add(BatchNormalization())\n",
        "model.add(Conv1D(128, 20, activation='relu', padding = 'same', kernel_regularizer='l2'),)\n",
        "model.add(BatchNormalization())\n",
        "model.add(Conv1D(128, 20, activation='relu', padding = 'same', kernel_regularizer='l2'),)\n",
        "model.add(MaxPooling1D(2),)\n",
        "model.add(Flatten())\n",
        "model.add(Dense(64, activation='relu'))\n",
        "model.add(Dense(2, activation='softmax'))\n",
        "\n",
        "################################################################################\n",
        "# TASK 4: define a sequential model with the following layers \n",
        "# (use l2 regularizer when possible):\n",
        "# - convolutional 1D input layer (64 filters, kernel size 20, padding set to 'same' and 'relu' activation)\n",
        "# - convolutional 1D with less filters and smaller kernel \n",
        "# - max pooling layer with pool size of 2\n",
        "# - flatten layer\n",
        "# - two dense layers where the lats one has a softmax activation\n",
        "################################################################################\n",
        "\n",
        "epochs = 20\n",
        "lrate = 0.001\n",
        "decay = lrate / epochs\n",
        "sgd = SGD(lr = lrate, momentum = 0.9, decay = decay, nesterov = False)\n",
        "model.compile(loss = 'categorical_crossentropy', optimizer = sgd, metrics = ['categorical_accuracy'])\n",
        "model.summary()"
      ],
      "execution_count": null,
      "outputs": [
        {
          "output_type": "stream",
          "name": "stdout",
          "text": [
            "Model: \"sequential_13\"\n",
            "_________________________________________________________________\n",
            " Layer (type)                Output Shape              Param #   \n",
            "=================================================================\n",
            " conv1d_38 (Conv1D)          (None, 131, 128)          10368     \n",
            "                                                                 \n",
            " batch_normalization_4 (Batc  (None, 131, 128)         512       \n",
            " hNormalization)                                                 \n",
            "                                                                 \n",
            " conv1d_39 (Conv1D)          (None, 131, 128)          327808    \n",
            "                                                                 \n",
            " batch_normalization_5 (Batc  (None, 131, 128)         512       \n",
            " hNormalization)                                                 \n",
            "                                                                 \n",
            " conv1d_40 (Conv1D)          (None, 131, 128)          327808    \n",
            "                                                                 \n",
            " batch_normalization_6 (Batc  (None, 131, 128)         512       \n",
            " hNormalization)                                                 \n",
            "                                                                 \n",
            " conv1d_41 (Conv1D)          (None, 131, 128)          327808    \n",
            "                                                                 \n",
            " batch_normalization_7 (Batc  (None, 131, 128)         512       \n",
            " hNormalization)                                                 \n",
            "                                                                 \n",
            " conv1d_42 (Conv1D)          (None, 131, 128)          327808    \n",
            "                                                                 \n",
            " max_pooling1d_29 (MaxPoolin  (None, 65, 128)          0         \n",
            " g1D)                                                            \n",
            "                                                                 \n",
            " flatten_8 (Flatten)         (None, 8320)              0         \n",
            "                                                                 \n",
            " dense_16 (Dense)            (None, 64)                532544    \n",
            "                                                                 \n",
            " dense_17 (Dense)            (None, 2)                 130       \n",
            "                                                                 \n",
            "=================================================================\n",
            "Total params: 1,856,322\n",
            "Trainable params: 1,855,298\n",
            "Non-trainable params: 1,024\n",
            "_________________________________________________________________\n"
          ]
        }
      ]
    },
    {
      "cell_type": "code",
      "metadata": {
        "id": "gafzgsZyjxBR",
        "colab": {
          "base_uri": "https://localhost:8080/"
        },
        "outputId": "c02db19b-a55a-4ae2-91db-75002656534b"
      },
      "source": [
        "# Training phase\n",
        "hp_epochs = epochs\n",
        "hp_batch_size = 32\n",
        "hp_val_split = 0.2\n",
        "\n",
        "cnn_model = model.fit(x = train_features, \n",
        "                      y = train_labels,\n",
        "                      epochs = hp_epochs,\n",
        "                      batch_size = hp_batch_size,\n",
        "                      shuffle = True,\n",
        "                      validation_split = hp_val_split\n",
        "                      )"
      ],
      "execution_count": null,
      "outputs": [
        {
          "output_type": "stream",
          "name": "stdout",
          "text": [
            "Train on 68664 samples, validate on 17167 samples\n",
            "Epoch 1/20\n",
            "68664/68664 [==============================] - 32s 459us/sample - loss: 3.6578 - categorical_accuracy: 0.9428 - val_loss: 2.3967 - val_categorical_accuracy: 0.9669\n",
            "Epoch 2/20\n",
            "68664/68664 [==============================] - 31s 455us/sample - loss: 1.7021 - categorical_accuracy: 0.9753 - val_loss: 1.2293 - val_categorical_accuracy: 0.9638\n",
            "Epoch 3/20\n",
            "68664/68664 [==============================] - 31s 450us/sample - loss: 0.8805 - categorical_accuracy: 0.9826 - val_loss: 0.6872 - val_categorical_accuracy: 0.9711\n",
            "Epoch 4/20\n",
            "68664/68664 [==============================] - 31s 452us/sample - loss: 0.5064 - categorical_accuracy: 0.9853 - val_loss: 0.4329 - val_categorical_accuracy: 0.9743\n",
            "Epoch 5/20\n",
            "68664/68664 [==============================] - 31s 452us/sample - loss: 0.3237 - categorical_accuracy: 0.9856 - val_loss: 0.3023 - val_categorical_accuracy: 0.9763\n",
            "Epoch 6/20\n",
            "68664/68664 [==============================] - 31s 452us/sample - loss: 0.2259 - categorical_accuracy: 0.9874 - val_loss: 0.2257 - val_categorical_accuracy: 0.9793\n",
            "Epoch 7/20\n",
            "68664/68664 [==============================] - 32s 460us/sample - loss: 0.1741 - categorical_accuracy: 0.9876 - val_loss: 0.2008 - val_categorical_accuracy: 0.9761\n",
            "Epoch 8/20\n",
            "68664/68664 [==============================] - 31s 450us/sample - loss: 0.1348 - categorical_accuracy: 0.9904 - val_loss: 0.1667 - val_categorical_accuracy: 0.9796\n",
            "Epoch 9/20\n",
            "68664/68664 [==============================] - 31s 451us/sample - loss: 0.1159 - categorical_accuracy: 0.9904 - val_loss: 0.1472 - val_categorical_accuracy: 0.9802\n",
            "Epoch 10/20\n",
            "68664/68664 [==============================] - 31s 452us/sample - loss: 0.0991 - categorical_accuracy: 0.9915 - val_loss: 0.1348 - val_categorical_accuracy: 0.9826\n",
            "Epoch 11/20\n",
            "68664/68664 [==============================] - 31s 451us/sample - loss: 0.0909 - categorical_accuracy: 0.9918 - val_loss: 0.1286 - val_categorical_accuracy: 0.9821\n",
            "Epoch 12/20\n",
            "68664/68664 [==============================] - 31s 450us/sample - loss: 0.0825 - categorical_accuracy: 0.9930 - val_loss: 0.1296 - val_categorical_accuracy: 0.9805\n",
            "Epoch 13/20\n",
            "68664/68664 [==============================] - 31s 457us/sample - loss: 0.0752 - categorical_accuracy: 0.9939 - val_loss: 0.1192 - val_categorical_accuracy: 0.9825\n",
            "Epoch 14/20\n",
            "68664/68664 [==============================] - 31s 455us/sample - loss: 0.0688 - categorical_accuracy: 0.9945 - val_loss: 0.1216 - val_categorical_accuracy: 0.9811\n",
            "Epoch 15/20\n",
            "68664/68664 [==============================] - 31s 450us/sample - loss: 0.0648 - categorical_accuracy: 0.9950 - val_loss: 0.1134 - val_categorical_accuracy: 0.9812\n",
            "Epoch 16/20\n",
            "68664/68664 [==============================] - 31s 449us/sample - loss: 0.0654 - categorical_accuracy: 0.9941 - val_loss: 0.1151 - val_categorical_accuracy: 0.9828\n",
            "Epoch 17/20\n",
            "68664/68664 [==============================] - 33s 476us/sample - loss: 0.0582 - categorical_accuracy: 0.9960 - val_loss: 0.1025 - val_categorical_accuracy: 0.9835\n",
            "Epoch 18/20\n",
            "68664/68664 [==============================] - 33s 485us/sample - loss: 0.0516 - categorical_accuracy: 0.9966 - val_loss: 0.1089 - val_categorical_accuracy: 0.9813\n",
            "Epoch 19/20\n",
            "68664/68664 [==============================] - 32s 463us/sample - loss: 0.0566 - categorical_accuracy: 0.9948 - val_loss: 0.1112 - val_categorical_accuracy: 0.9809\n",
            "Epoch 20/20\n",
            "68664/68664 [==============================] - 31s 457us/sample - loss: 0.0518 - categorical_accuracy: 0.9964 - val_loss: 0.1128 - val_categorical_accuracy: 0.9833\n"
          ]
        }
      ]
    },
    {
      "cell_type": "markdown",
      "source": [
        " 1. With a smaller network (8,4) we get lower accuracy : loss: 0.2295 - categorical_accuracy: 0.9149 - val_loss: 0.2204 - val_categorical_accuracy: 0.9193\n",
        "\n",
        "\n",
        "2. K size = 100 gives : loss: 0.1244 - categorical_accuracy: 0.9539 -   val_loss: 0.1674 - val_categorical_accuracy: 0.9367\n",
        "\n",
        "  K = 50 gives : loss: 0.1840 - categorical_accuracy: 0.9313 - val_loss: 0.2325 - val_categorical_accuracy: 0.9104\n",
        "\n",
        "  K = 150 gives : loss: 0.0728 - categorical_accuracy: 0.9728 - val_loss: 0.1113 - val_categorical_accuracy: 0.9587\n",
        "\n",
        "  as we can se higer kmere size is better for accuracy \n",
        "\n",
        "Bonus:\n",
        "\n",
        "1. loss: 0.0518 - categorical_accuracy: 0.9964 - val_loss: 0.1128 - val_categorical_accuracy: 0.9833 \n",
        "\n",
        "with a more complex network:\n",
        "\n",
        "conv1d_38 (Conv1D)          (None, 131, 128)          10368     \n",
        "                                                                 \n",
        " batch_normalization_4 (Batc  (None, 131, 128)         512       \n",
        " hNormalization)                                                 \n",
        "                                                                 \n",
        " conv1d_39 (Conv1D)          (None, 131, 128)          327808    \n",
        "                                                                 \n",
        " batch_normalization_5 (Batc  (None, 131, 128)         512       \n",
        " hNormalization)                                                 \n",
        "                                                                 \n",
        " conv1d_40 (Conv1D)          (None, 131, 128)          327808    \n",
        "                                                                 \n",
        " batch_normalization_6 (Batc  (None, 131, 128)         512       \n",
        " hNormalization)                                                 \n",
        "                                                                 \n",
        " conv1d_41 (Conv1D)          (None, 131, 128)          327808    \n",
        "                                                                 \n",
        " batch_normalization_7 (Batc  (None, 131, 128)         512       \n",
        " hNormalization)                                                 \n",
        "                                                                 \n",
        " conv1d_42 (Conv1D)          (None, 131, 128)          327808    \n",
        "                                                                 \n",
        " max_pooling1d_29 (MaxPoolin  (None, 65, 128)          0         \n",
        " g1D)                                                            \n",
        "                                                                 \n",
        " flatten_8 (Flatten)         (None, 8320)              0         \n",
        "                                                                 \n",
        " dense_16 (Dense)            (None, 64)                532544    \n",
        "                                                                 \n",
        " dense_17 (Dense)            (None, 2)                 130 "
      ],
      "metadata": {
        "id": "5gXquzGsCwL5"
      }
    },
    {
      "cell_type": "code",
      "metadata": {
        "id": "e1Y4v63GcUgj",
        "colab": {
          "base_uri": "https://localhost:8080/",
          "height": 281
        },
        "outputId": "b56c98cb-e4ea-4b65-9c02-c7a183be37ff"
      },
      "source": [
        "# Below we will plot loss across consecutive timepoints throughout the training\n",
        "\n",
        "#model.save_weights('its_cnn_weights.h5', overwrite = True)\n",
        "from google.colab import drive\n",
        "import keras\n",
        "\n",
        "#drive.mount('/content/drive')\n",
        "#model.save('/content/drive/its_cnn_model.h5')\n",
        "#model = keras.models.load_model('its_cnn_model.h5')\n",
        "loss = cnn_model.history['loss']\n",
        "val_loss = cnn_model.history['val_loss']\n",
        "epochs = range(hp_epochs)\n",
        "plt.figure()\n",
        "plt.plot(epochs, loss, 'bo', label='Training loss')\n",
        "plt.plot(epochs, val_loss, 'b', label='Validation loss')\n",
        "plt.title('Training and validation loss')\n",
        "plt.legend()\n",
        "plt.show()\n"
      ],
      "execution_count": null,
      "outputs": [
        {
          "output_type": "display_data",
          "data": {
            "text/plain": [
              "<Figure size 432x288 with 1 Axes>"
            ],
            "image/png": "[encoded data removed]"
          },
          "metadata": {
            "needs_background": "light"
          }
        }
      ]
    },
    {
      "cell_type": "code",
      "metadata": {
        "id": "y6OmOW6sF7TT",
        "colab": {
          "base_uri": "https://localhost:8080/",
          "height": 622
        },
        "outputId": "fa902448-8b6b-4f19-b71e-126d98510100"
      },
      "source": [
        "# Below is the code to plot a confusion matrix as a heatmap.\n",
        "from sklearn.metrics import confusion_matrix\n",
        "import itertools\n",
        "\n",
        "plt.figure(figsize=(10,8))\n",
        "\n",
        "predicted_labels = model.predict(np.stack(test_features))\n",
        "cm = confusion_matrix(np.argmax(test_labels, axis=1), \n",
        "                      np.argmax(predicted_labels, axis=1))\n",
        "print('Confusion matrix:\\n',cm)\n",
        "\n",
        "cm = cm.astype('float') / cm.sum(axis = 1)[:, np.newaxis]\n",
        "\n",
        "plt.imshow(cm, cmap=plt.cm.Accent)\n",
        "plt.title('Normalized confusion matrix')\n",
        "plt.colorbar()\n",
        "plt.xlabel('Actual class')\n",
        "plt.ylabel('Predicted class')\n",
        "plt.xticks([0, 1]); plt.yticks([0, 1])\n",
        "plt.grid('off')\n",
        "for i, j in itertools.product(range(cm.shape[0]), range(cm.shape[1])):\n",
        "    plt.text(j, i, format(cm[i, j], '.2f'),\n",
        "             horizontalalignment='center',\n",
        "             color='white' if cm[i, j] > 0.5 else 'black')\n",
        "plt.show()\n"
      ],
      "execution_count": null,
      "outputs": [
        {
          "output_type": "stream",
          "name": "stderr",
          "text": [
            "/usr/local/lib/python3.7/dist-packages/keras/engine/training_v1.py:2067: UserWarning: `Model.state_updates` will be removed in a future version. This property should not be used in TensorFlow 2.0, as `updates` are applied automatically.\n",
            "  updates=self.state_updates,\n"
          ]
        },
        {
          "output_type": "stream",
          "name": "stdout",
          "text": [
            "Confusion matrix:\n",
            " [[21013   219]\n",
            " [  220  7159]]\n"
          ]
        },
        {
          "output_type": "display_data",
          "data": {
            "text/plain": [
              "<Figure size 720x576 with 2 Axes>"
            ],
            "image/png": "[encoded data removed]"
          },
          "metadata": {
            "needs_background": "light"
          }
        }
      ]
    },
    {
      "cell_type": "code",
      "metadata": {
        "id": "HzsbuZ7YGTSM",
        "colab": {
          "base_uri": "https://localhost:8080/"
        },
        "outputId": "39a1a566-b3bb-4d3e-f162-87fbcfb1b4f2"
      },
      "source": [
        "# Now, we evaluate our model on test data\n",
        "scores = model.evaluate(test_features, test_labels, verbose=0)\n",
        "print(\"Accuracy: %.2f%%\" % (scores[1] * 100))"
      ],
      "execution_count": null,
      "outputs": [
        {
          "output_type": "stream",
          "name": "stdout",
          "text": [
            "Accuracy: 98.47%\n"
          ]
        }
      ]
    },
    {
      "cell_type": "code",
      "metadata": {
        "id": "uL-93J0OGhqT"
      },
      "source": [
        "# Code below will yield a saliency map for classifying the first 10 sequences.\n",
        "\n",
        "import keras.backend as K\n",
        "\n",
        "def compute_salient_bases(model, x):\n",
        "    input_tensors = [model.input]\n",
        "    gradients = model.optimizer.get_gradients(model.output[0][1], model.input)\n",
        "    compute_gradients = K.function(inputs = input_tensors, outputs = gradients)\n",
        "    \n",
        "    x_value = np.expand_dims(x, axis=0)\n",
        "    gradients = compute_gradients([x_value])[0][0]\n",
        "    sal = np.clip(np.sum(np.multiply(gradients,x), axis=1),a_min=0, a_max=None)\n",
        "    return sal"
      ],
      "execution_count": null,
      "outputs": []
    },
    {
      "cell_type": "code",
      "metadata": {
        "id": "3s-7vEZVGjAl",
        "colab": {
          "base_uri": "https://localhost:8080/",
          "height": 405
        },
        "outputId": "a7214fd8-c98e-4ffe-f3b0-937526687b69"
      },
      "source": [
        "K.set_learning_phase(1) #set learning phase\n",
        "sals = []\n",
        "for sequence_index in range(0,10):\n",
        "  sals.append(compute_salient_bases(model, input_features[sequence_index]))\n",
        "\n",
        "sal = sals[0]\n",
        "#print(sals)\n",
        "\n",
        "plt.figure(figsize=[16,5])\n",
        "barlist = plt.bar(np.arange(len(sal)), sal)\n",
        "[barlist[i].set_color('C1') for i in range(0,len(sal))]\n",
        "plt.xlabel('Bases')\n",
        "plt.ylabel('Saliency')\n",
        "plt.title('Saliency map');\n",
        "plt.show()"
      ],
      "execution_count": null,
      "outputs": [
        {
          "output_type": "stream",
          "name": "stderr",
          "text": [
            "/usr/local/lib/python3.7/dist-packages/keras/backend.py:450: UserWarning: `tf.keras.backend.set_learning_phase` is deprecated and will be removed after 2020-10-11. To update it, simply pass a True/False value to the `training` argument of the `__call__` method of your layer or model.\n",
            "  warnings.warn('`tf.keras.backend.set_learning_phase` is deprecated and '\n"
          ]
        },
        {
          "output_type": "display_data",
          "data": {
            "text/plain": [
              "<Figure size 1152x360 with 1 Axes>"
            ],
            "image/png": "[encoded data removed]"
          },
          "metadata": {
            "needs_background": "light"
          }
        }
      ]
    },
    {
      "cell_type": "markdown",
      "source": [
        "3. The edges are less importan not looking at length 1 or bigger then 150. It looks like it is taking batches primarily 60 "
      ],
      "metadata": {
        "id": "hERXYj4FLK_6"
      }
    },
    {
      "cell_type": "markdown",
      "source": [
        "# Questions\n",
        "\n",
        "Besides the code completion tasks defined in the comments above, there are a couple of additional questions/tasks:\n",
        "\n",
        "1. Try to alter filter and kernel size in the first layers to some small values. Examine and briefly discuss how this affects prediction accuracy. \n",
        "\n",
        "2. Does the k-mer size have an effect on model's performance. Try 3 or more different k-mer sizes to try to answer this question. \n",
        "\n",
        "3. What do you think of the saliency map we generated, are there any immediate patterns emerging? Do you think such map advances our understanding of the mechanics of the model?\n",
        "\n",
        "BONUS (1p)\n",
        "\n",
        "1. Can you think of any different/better CNN architecture for this classification task? If so, try to implement and test it. Does it perform better or worse than the network in the lab?\n",
        "\n",
        "2. Try making k-mers more noisy (randomly add Ns or other ambiguous symbols). How dos this affect the training performance with one-hot encoding vs. probabilities of 4 bases encoding? "
      ],
      "metadata": {
        "id": "Hq2ovwQftpQ6"
      }
    }
  ]
}