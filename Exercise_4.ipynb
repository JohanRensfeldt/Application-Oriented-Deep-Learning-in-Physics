{
  "nbformat": 4,
  "nbformat_minor": 0,
  "metadata": {
    "colab": {
      "provenance": [],
      "collapsed_sections": []
    },
    "kernelspec": {
      "display_name": "Python 3",
      "language": "python",
      "name": "python3"
    },
    "language_info": {
      "codemirror_mode": {
        "name": "ipython",
        "version": 3
      },
      "file_extension": ".py",
      "mimetype": "text/x-python",
      "name": "python",
      "nbconvert_exporter": "python",
      "pygments_lexer": "ipython3",
      "version": "3.6.9"
    }
  },
  "cells": [
    {
      "cell_type": "markdown",
      "metadata": {
        "id": "rF2trPuyzm9C"
      },
      "source": [
        "# Exercise 4\n"
      ]
    },
    {
      "cell_type": "code",
      "metadata": {
        "id": "ipcsUFDUzm9C"
      },
      "source": [
        "import numpy as np\n",
        "import matplotlib.pyplot as plt"
      ],
      "execution_count": 1,
      "outputs": []
    },
    {
      "cell_type": "markdown",
      "metadata": {
        "id": "MCJe_ITJzm9G"
      },
      "source": [
        "**Linear Regression**\n",
        "\n",
        "The goal of this exercise is to explore a simple linear regression problem based on Portugese white wine.\n",
        "\n",
        "The dataset is based on \n",
        "Cortez, A. Cerdeira, F. Almeida, T. Matos and J. Reis. **Modeling wine preferences by data mining from physicochemical properties**. Published in Decision Support Systems, Elsevier, 47(4):547-553, 2009. \n",
        "\n"
      ]
    },
    {
      "cell_type": "code",
      "metadata": {
        "id": "NopU99AT9G7s",
        "colab": {
          "base_uri": "https://localhost:8080/"
        },
        "outputId": "df66777f-a147-4550-da79-aa05f9f1b83f"
      },
      "source": [
        "# The code snippet below is responsible for downloading the dataset\n",
        "# - for example when running via Google Colab.\n",
        "#\n",
        "# You can also directly download the file using the link if you work\n",
        "# with a local setup (in that case, ignore the !wget)\n",
        "\n",
        "!wget https://archive.ics.uci.edu/ml/machine-learning-databases/wine-quality/winequality-white.csv"
      ],
      "execution_count": 2,
      "outputs": [
        {
          "output_type": "stream",
          "name": "stdout",
          "text": [
            "--2022-09-13 10:01:37--  https://archive.ics.uci.edu/ml/machine-learning-databases/wine-quality/winequality-white.csv\n",
            "Resolving archive.ics.uci.edu (archive.ics.uci.edu)... 128.195.10.252\n",
            "Connecting to archive.ics.uci.edu (archive.ics.uci.edu)|128.195.10.252|:443... connected.\n",
            "HTTP request sent, awaiting response... 200 OK\n",
            "Length: 264426 (258K) [application/x-httpd-php]\n",
            "Saving to: ‘winequality-white.csv’\n",
            "\n",
            "\rwinequality-white.c   0%[                    ]       0  --.-KB/s               \rwinequality-white.c 100%[===================>] 258.23K  --.-KB/s    in 0.04s   \n",
            "\n",
            "2022-09-13 10:01:37 (6.54 MB/s) - ‘winequality-white.csv’ saved [264426/264426]\n",
            "\n"
          ]
        }
      ]
    },
    {
      "cell_type": "markdown",
      "metadata": {
        "id": "zEiZ19s5zm9G"
      },
      "source": [
        "**Before we start**\n",
        "\n",
        "The downloaded file contains data on 4989 wines. For each wine 11 features are recorded (column 0 to 10). The final columns contains the quality of the wine. This is what we want to predict. More information on the features and the quality measurement is provided in the original publication.\n",
        "\n",
        "List of columns/features: \n",
        "0. fixed acidity\n",
        "1. volatile acidity\n",
        "2. citric acid\n",
        "3. residual sugar\n",
        "4. chlorides\n",
        "5. free sulfur dioxide\n",
        "6. total sulfur dioxide\n",
        "7. density\n",
        "8. pH\n",
        "9. sulphates\n",
        "10. alcohol\n",
        "11. quality\n",
        "\n",
        "\n",
        "\n",
        "[file]: https://archive.ics.uci.edu/ml/machine-learning-databases/wine-quality/winequality-white.csv"
      ]
    },
    {
      "cell_type": "code",
      "metadata": {
        "colab": {
          "base_uri": "https://localhost:8080/"
        },
        "id": "5ONqeI5Uzm9H",
        "outputId": "544674f7-d9fb-4c3b-8ebc-b1793256ebff"
      },
      "source": [
        "# Before working with the data, \n",
        "# we download and prepare all features\n",
        "\n",
        "# load all examples from the file\n",
        "data = np.genfromtxt('winequality-white.csv',delimiter=\";\",skip_header=1)\n",
        "\n",
        "print(\"data:\", data.shape)\n",
        "\n",
        "# Prepare for proper training\n",
        "np.random.shuffle(data) # randomly sort examples\n",
        "\n",
        "# take the first 3000 examples for training\n",
        "# (remember array slicing from last week)\n",
        "X_train = data[:3000,:11] # all features except last column\n",
        "y_train = data[:3000,11]  # quality column\n",
        "\n",
        "# and the remaining examples for testing\n",
        "X_test = data[3000:,:11] # all features except last column\n",
        "y_test = data[3000:,11] # quality column\n",
        "\n",
        "print(\"First example:\")\n",
        "print(\"Features:\", X_train[0])\n",
        "print(\"Quality:\", y_train[0])"
      ],
      "execution_count": 3,
      "outputs": [
        {
          "output_type": "stream",
          "name": "stdout",
          "text": [
            "data: (4898, 12)\n",
            "First example:\n",
            "Features: [5.80e+00 3.20e-01 3.80e-01 4.75e+00 3.30e-02 2.30e+01 9.40e+01 9.91e-01\n",
            " 3.42e+00 4.20e-01 1.18e+01]\n",
            "Quality: 7.0\n"
          ]
        }
      ]
    },
    {
      "cell_type": "markdown",
      "metadata": {
        "id": "jiwnyNHpzm9L"
      },
      "source": [
        "# Problems\n",
        "\n",
        "\n",
        "* First we want to understand the data better. Plot (`plt.hist`) the distribution of each of the features for the training data as well as the 2D distribution (either `plt.scatter` or `plt.hist2d`) of each feature versus quality. Also calculate the correlation coefficient (`np.corrcoef`) for each feature with quality. Which feature by itself seems most predictive for the quality?\n",
        "\n",
        "* Calculate the linear regression weights. Numpy provides functions for matrix multiplication (`np.matmul`), matrix transposition (`.T`) and matrix inversion (`np.linalg.inv`).\n",
        "\n",
        "* Use the weights to predict the quality for the test dataset. How\n",
        "does your predicted quality compare with the true quality of the test data? Calculate the correlation coefficient between predicted and true quality and draw a scatter plot."
      ]
    },
    {
      "cell_type": "code",
      "source": [
        "plt.hist(data)"
      ],
      "metadata": {
        "id": "9-6nHLgLD84p",
        "outputId": "9c2186d9-158a-42ac-a5de-ff6ae01071e7",
        "colab": {
          "base_uri": "https://localhost:8080/",
          "height": 730
        }
      },
      "execution_count": 5,
      "outputs": [
        {
          "output_type": "execute_result",
          "data": {
            "text/plain": [
              "(array([[4.898e+03, 0.000e+00, 0.000e+00, 0.000e+00, 0.000e+00, 0.000e+00,\n",
              "         0.000e+00, 0.000e+00, 0.000e+00, 0.000e+00],\n",
              "        [4.898e+03, 0.000e+00, 0.000e+00, 0.000e+00, 0.000e+00, 0.000e+00,\n",
              "         0.000e+00, 0.000e+00, 0.000e+00, 0.000e+00],\n",
              "        [4.898e+03, 0.000e+00, 0.000e+00, 0.000e+00, 0.000e+00, 0.000e+00,\n",
              "         0.000e+00, 0.000e+00, 0.000e+00, 0.000e+00],\n",
              "        [4.897e+03, 1.000e+00, 0.000e+00, 0.000e+00, 0.000e+00, 0.000e+00,\n",
              "         0.000e+00, 0.000e+00, 0.000e+00, 0.000e+00],\n",
              "        [4.898e+03, 0.000e+00, 0.000e+00, 0.000e+00, 0.000e+00, 0.000e+00,\n",
              "         0.000e+00, 0.000e+00, 0.000e+00, 0.000e+00],\n",
              "        [3.476e+03, 1.394e+03, 2.500e+01, 2.000e+00, 0.000e+00, 0.000e+00,\n",
              "         1.000e+00, 0.000e+00, 0.000e+00, 0.000e+00],\n",
              "        [3.300e+01, 4.770e+02, 1.813e+03, 1.591e+03, 8.130e+02, 1.610e+02,\n",
              "         6.000e+00, 2.000e+00, 1.000e+00, 1.000e+00],\n",
              "        [4.898e+03, 0.000e+00, 0.000e+00, 0.000e+00, 0.000e+00, 0.000e+00,\n",
              "         0.000e+00, 0.000e+00, 0.000e+00, 0.000e+00],\n",
              "        [4.898e+03, 0.000e+00, 0.000e+00, 0.000e+00, 0.000e+00, 0.000e+00,\n",
              "         0.000e+00, 0.000e+00, 0.000e+00, 0.000e+00],\n",
              "        [4.898e+03, 0.000e+00, 0.000e+00, 0.000e+00, 0.000e+00, 0.000e+00,\n",
              "         0.000e+00, 0.000e+00, 0.000e+00, 0.000e+00],\n",
              "        [4.898e+03, 0.000e+00, 0.000e+00, 0.000e+00, 0.000e+00, 0.000e+00,\n",
              "         0.000e+00, 0.000e+00, 0.000e+00, 0.000e+00],\n",
              "        [4.898e+03, 0.000e+00, 0.000e+00, 0.000e+00, 0.000e+00, 0.000e+00,\n",
              "         0.000e+00, 0.000e+00, 0.000e+00, 0.000e+00]]),\n",
              " array([  0.,  44.,  88., 132., 176., 220., 264., 308., 352., 396., 440.]),\n",
              " <a list of 12 Lists of Patches objects>)"
            ]
          },
          "metadata": {},
          "execution_count": 5
        },
        {
          "output_type": "display_data",
          "data": {
            "text/plain": [
              "<Figure size 432x288 with 1 Axes>"
            ],
            "image/png": "[encoded data removed]"
          },
          "metadata": {
            "needs_background": "light"
          }
        }
      ]
    },
    {
      "cell_type": "code",
      "source": [
        "plt.hist2d(data[:,10],data[:,11])"
      ],
      "metadata": {
        "id": "MpVgt1tVEU7V",
        "outputId": "8b719b36-9c5f-47bb-a429-84c21136d710",
        "colab": {
          "base_uri": "https://localhost:8080/",
          "height": 519
        }
      },
      "execution_count": 6,
      "outputs": [
        {
          "output_type": "execute_result",
          "data": {
            "text/plain": [
              "(array([[  2.,   5.,   0.,  20.,   0.,   6.,   3.,   0.,   1.,   0.],\n",
              "        [  2.,  29.,   0., 393.,   0., 295.,  72.,   0.,  17.,   0.],\n",
              "        [  4.,  34.,   0., 490.,   0., 394.,  43.,   0.,   4.,   0.],\n",
              "        [  2.,  40.,   0., 240.,   0., 397.,  74.,   0.,   7.,   1.],\n",
              "        [  6.,  22.,   0., 175.,   0., 390., 154.,   0.,  18.,   0.],\n",
              "        [  2.,  23.,   0.,  95.,   0., 314., 162.,   0.,  29.,   0.],\n",
              "        [  0.,   4.,   0.,  29.,   0., 201., 158.,   0.,  35.,   0.],\n",
              "        [  2.,   5.,   0.,  11.,   0., 158., 142.,   0.,  46.,   4.],\n",
              "        [  0.,   1.,   0.,   3.,   0.,  36.,  53.,   0.,  17.,   0.],\n",
              "        [  0.,   0.,   0.,   1.,   0.,   7.,  19.,   0.,   1.,   0.]]),\n",
              " array([ 8.  ,  8.62,  9.24,  9.86, 10.48, 11.1 , 11.72, 12.34, 12.96,\n",
              "        13.58, 14.2 ]),\n",
              " array([3. , 3.6, 4.2, 4.8, 5.4, 6. , 6.6, 7.2, 7.8, 8.4, 9. ]),\n",
              " <matplotlib.collections.QuadMesh at 0x7fb1881a9910>)"
            ]
          },
          "metadata": {},
          "execution_count": 6
        },
        {
          "output_type": "display_data",
          "data": {
            "text/plain": [
              "<Figure size 432x288 with 1 Axes>"
            ],
            "image/png": "[encoded data removed]"
          },
          "metadata": {
            "needs_background": "light"
          }
        }
      ]
    },
    {
      "cell_type": "code",
      "source": [
        "np.corrcoef(data[:,10],data[:,11])"
      ],
      "metadata": {
        "id": "fQ7Ve3O9I-Rr",
        "outputId": "becbea57-2736-43c8-88ed-192256d4dff5",
        "colab": {
          "base_uri": "https://localhost:8080/"
        }
      },
      "execution_count": 27,
      "outputs": [
        {
          "output_type": "execute_result",
          "data": {
            "text/plain": [
              "array([[1.        , 0.43557472],\n",
              "       [0.43557472, 1.        ]])"
            ]
          },
          "metadata": {},
          "execution_count": 27
        }
      ]
    },
    {
      "cell_type": "code",
      "source": [
        "w = np.matmul(np.linalg.inv(np.matmul(X_test.T,X_train)),np.matmul(X_train.T,y_test))"
      ],
      "metadata": {
        "id": "qNhLuOrNJSma",
        "outputId": "40f045b0-fb41-427c-b7df-ee3d004d466e",
        "colab": {
          "base_uri": "https://localhost:8080/",
          "height": 169
        }
      },
      "execution_count": 4,
      "outputs": [
        {
          "output_type": "error",
          "ename": "ValueError",
          "evalue": "ignored",
          "traceback": [
            "\u001b[0;31m---------------------------------------------------------------------------\u001b[0m",
            "\u001b[0;31mValueError\u001b[0m                                Traceback (most recent call last)",
            "\u001b[0;32m<ipython-input-4-7898dcde3ab1>\u001b[0m in \u001b[0;36m<module>\u001b[0;34m\u001b[0m\n\u001b[0;32m----> 1\u001b[0;31m \u001b[0mw\u001b[0m \u001b[0;34m=\u001b[0m \u001b[0mnp\u001b[0m\u001b[0;34m.\u001b[0m\u001b[0mmatmul\u001b[0m\u001b[0;34m(\u001b[0m\u001b[0mnp\u001b[0m\u001b[0;34m.\u001b[0m\u001b[0mlinalg\u001b[0m\u001b[0;34m.\u001b[0m\u001b[0minv\u001b[0m\u001b[0;34m(\u001b[0m\u001b[0mnp\u001b[0m\u001b[0;34m.\u001b[0m\u001b[0mmatmul\u001b[0m\u001b[0;34m(\u001b[0m\u001b[0mX_test\u001b[0m\u001b[0;34m.\u001b[0m\u001b[0mT\u001b[0m\u001b[0;34m,\u001b[0m\u001b[0mX_train\u001b[0m\u001b[0;34m)\u001b[0m\u001b[0;34m)\u001b[0m\u001b[0;34m,\u001b[0m\u001b[0mnp\u001b[0m\u001b[0;34m.\u001b[0m\u001b[0mmatmul\u001b[0m\u001b[0;34m(\u001b[0m\u001b[0mX_train\u001b[0m\u001b[0;34m.\u001b[0m\u001b[0mT\u001b[0m\u001b[0;34m,\u001b[0m\u001b[0my_test\u001b[0m\u001b[0;34m)\u001b[0m\u001b[0;34m)\u001b[0m\u001b[0;34m\u001b[0m\u001b[0;34m\u001b[0m\u001b[0m\n\u001b[0m",
            "\u001b[0;31mValueError\u001b[0m: matmul: Input operand 1 has a mismatch in its core dimension 0, with gufunc signature (n?,k),(k,m?)->(n?,m?) (size 3000 is different from 1898)"
          ]
        }
      ]
    },
    {
      "cell_type": "markdown",
      "source": [
        "**Homework Submission**\n",
        "\n",
        "When you submit your exercise sheet, please alwasy do two things\n",
        "\n",
        "1) Generate a PDF of your iPython notebook. Submit this PDF through Studium\n",
        "\n",
        "2) Provide a link to your google colab notebook so that we can directly execute and test your code. To do that click on \"share\", change access to \"anyone with the link\", copy the link and add it as a comment to your submission on Studium. "
      ],
      "metadata": {
        "id": "siD868R1oXgm"
      }
    },
    {
      "cell_type": "markdown",
      "metadata": {
        "id": "-JyaU3ZDviXL"
      },
      "source": [
        "# Hints"
      ]
    },
    {
      "cell_type": "markdown",
      "metadata": {
        "id": "k2_gi8izviXM"
      },
      "source": [
        "Formally, we want to find weights $w_i$ that minimize:\n",
        "$$\n",
        "\\sum_{j}\\left(\\sum_{i} X_{i j} w_{i}-y_{j}\\right)^{2}\n",
        "$$\n",
        "The index $i$ denotes the different features (properties of the wines) while the index $j$ runs over the different wines. The matrix $X_{ij}$ contains the training data, $y_j$ is the 'true' quality for sample $j$. The weights can be found by taking the first derivative of the above expression with respect to the weights and setting it to zero (the standard strategy for finding an extremum), and solving the corresponding system of equations (for a detailed derivation, see [here](https://en.wikipedia.org/wiki/Ordinary_least_squares)). The result is:\n",
        "$$\n",
        "\\overrightarrow{\\mathbf{w}}=\\left(\\mathbf{X}^{T} \\mathbf{X}\\right)^{-1} \\mathbf{X}^{T} \\overrightarrow{\\mathbf{y}}\n",
        "$$\n",
        "\n",
        "In the end, you should have as many components of $w_i$ as there are features in the data (i.e. eleven in this case). \n",
        "\n",
        "You can use `.shape` to inspect the dimensions of numpy tensors.\n"
      ]
    }
  ]
}